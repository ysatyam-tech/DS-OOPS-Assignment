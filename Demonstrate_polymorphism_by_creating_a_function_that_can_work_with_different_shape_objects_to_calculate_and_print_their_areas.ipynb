{
  "nbformat": 4,
  "nbformat_minor": 0,
  "metadata": {
    "colab": {
      "provenance": [],
      "authorship_tag": "ABX9TyN4L62/1GcgwcZo3rULM2C+",
      "include_colab_link": true
    },
    "kernelspec": {
      "name": "python3",
      "display_name": "Python 3"
    },
    "language_info": {
      "name": "python"
    }
  },
  "cells": [
    {
      "cell_type": "markdown",
      "metadata": {
        "id": "view-in-github",
        "colab_type": "text"
      },
      "source": [
        "<a href=\"https://colab.research.google.com/github/ysatyam-tech/DS-OOPS-Assignment/blob/main/Demonstrate_polymorphism_by_creating_a_function_that_can_work_with_different_shape_objects_to_calculate_and_print_their_areas.ipynb\" target=\"_parent\"><img src=\"https://colab.research.google.com/assets/colab-badge.svg\" alt=\"Open In Colab\"/></a>"
      ]
    },
    {
      "cell_type": "code",
      "execution_count": 6,
      "metadata": {
        "colab": {
          "base_uri": "https://localhost:8080/"
        },
        "id": "VA74a3rUX3aD",
        "outputId": "8655dfaa-90f0-400d-905b-9c81047c71e8"
      },
      "outputs": [
        {
          "output_type": "stream",
          "name": "stdout",
          "text": [
            "Area: 78.53981633974483\n",
            "Area: 24\n",
            "Area: 10.0\n"
          ]
        }
      ],
      "source": [
        "from math import pi\n",
        "\n",
        "class Shape:\n",
        "    def area(self): pass\n",
        "\n",
        "class Circle(Shape):\n",
        "    def __init__(self, r): self.r = r\n",
        "    def area(self): return pi * self.r**2\n",
        "class Rectangle(Shape):\n",
        "    def __init__(self, w, h): self.w, self.h = w, h\n",
        "    def area(self): return self.w * self.h\n",
        "\n",
        "class Triangle(Shape):\n",
        "    def __init__(self, b, h): self.b, self.h = b, h\n",
        "    def area(self): return 0.5 * self.b * self.h\n",
        "\n",
        "def print_area(shape): print(f\"Area: {shape.area()}\")\n",
        "\n",
        "# Testing\n",
        "print_area(Circle(5))\n",
        "print_area(Rectangle(4, 6))\n",
        "print_area(Triangle(4, 5))\n"
      ]
    }
  ]
}