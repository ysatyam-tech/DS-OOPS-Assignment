{
  "nbformat": 4,
  "nbformat_minor": 0,
  "metadata": {
    "colab": {
      "provenance": [],
      "authorship_tag": "ABX9TyOMLmEwihtdPK4cjpkLeeoK",
      "include_colab_link": true
    },
    "kernelspec": {
      "name": "python3",
      "display_name": "Python 3"
    },
    "language_info": {
      "name": "python"
    }
  },
  "cells": [
    {
      "cell_type": "markdown",
      "metadata": {
        "id": "view-in-github",
        "colab_type": "text"
      },
      "source": [
        "<a href=\"https://colab.research.google.com/github/ysatyam-tech/DS-OOPS-Assignment/blob/main/Write_a_class_method_that_keeps_track_of_the_number_of_instances_created_from_a_class.ipynb\" target=\"_parent\"><img src=\"https://colab.research.google.com/assets/colab-badge.svg\" alt=\"Open In Colab\"/></a>"
      ]
    },
    {
      "cell_type": "code",
      "execution_count": 15,
      "metadata": {
        "colab": {
          "base_uri": "https://localhost:8080/"
        },
        "id": "VA74a3rUX3aD",
        "outputId": "c9905f02-982c-4b9c-e7a9-a2e4f3721262"
      },
      "outputs": [
        {
          "output_type": "stream",
          "name": "stdout",
          "text": [
            "3\n"
          ]
        }
      ],
      "source": [
        "class InstanceCounter:\n",
        "    # Class attribute to store the count of instances\n",
        "    instance_count = 0\n",
        "\n",
        "    def __init__(self):\n",
        "        # Increment the count each time an instance is created\n",
        "        InstanceCounter.instance_count += 1\n",
        "\n",
        "    # Class method to return the current number of instances\n",
        "    @classmethod\n",
        "    def get_instance_count(cls):\n",
        "        return cls.instance_count\n",
        "\n",
        "# Testing the class\n",
        "obj1 = InstanceCounter()  # 1st instance\n",
        "obj2 = InstanceCounter()  # 2nd instance\n",
        "obj3 = InstanceCounter()  # 3rd instance\n",
        "\n",
        "# Checking the instance count using the class method\n",
        "print(InstanceCounter.get_instance_count())\n"
      ]
    }
  ]
}