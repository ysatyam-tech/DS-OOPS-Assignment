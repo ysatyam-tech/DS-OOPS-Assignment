{
  "nbformat": 4,
  "nbformat_minor": 0,
  "metadata": {
    "colab": {
      "provenance": [],
      "authorship_tag": "ABX9TyNeQXiZjSMsY9FDkTnKYj8U",
      "include_colab_link": true
    },
    "kernelspec": {
      "name": "python3",
      "display_name": "Python 3"
    },
    "language_info": {
      "name": "python"
    }
  },
  "cells": [
    {
      "cell_type": "markdown",
      "metadata": {
        "id": "view-in-github",
        "colab_type": "text"
      },
      "source": [
        "<a href=\"https://colab.research.google.com/github/ysatyam-tech/DS-OOPS-Assignment/blob/main/Create_a_decorator_that_measures_and_prints_the_execution_time_of_a_function.ipynb\" target=\"_parent\"><img src=\"https://colab.research.google.com/assets/colab-badge.svg\" alt=\"Open In Colab\"/></a>"
      ]
    },
    {
      "cell_type": "code",
      "execution_count": 11,
      "metadata": {
        "colab": {
          "base_uri": "https://localhost:8080/"
        },
        "id": "VA74a3rUX3aD",
        "outputId": "e3f4d307-3ae0-4693-c80d-28c18848ad52"
      },
      "outputs": [
        {
          "output_type": "stream",
          "name": "stdout",
          "text": [
            "Execution time: 0.0730 seconds\n",
            "499999500000\n"
          ]
        }
      ],
      "source": [
        "import time\n",
        "\n",
        "def timing_decorator(func):\n",
        "    def wrapper(*args, **kwargs):\n",
        "        start_time = time.time()   # Record start time\n",
        "        result = func(*args, **kwargs)   # Call the function\n",
        "        end_time = time.time()     # Record end time\n",
        "        elapsed_time = end_time - start_time\n",
        "        print(f\"Execution time: {elapsed_time:.4f} seconds\")\n",
        "        return result\n",
        "    return wrapper\n",
        "\n",
        "# Example usage\n",
        "@timing_decorator\n",
        "def example_function(n):\n",
        "    total = 0\n",
        "    for i in range(n):\n",
        "        total += i\n",
        "    return total\n",
        "\n",
        "# Testing the decorator\n",
        "print(example_function(1000000))  # Output will include the execution time\n"
      ]
    }
  ]
}